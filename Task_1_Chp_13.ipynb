{
 "cells": [
  {
   "cell_type": "markdown",
   "id": "b0cb3862",
   "metadata": {},
   "source": [
    "# Capstone Project 2: Unsupervised learning - PCA and clustering"
   ]
  },
  {
   "cell_type": "markdown",
   "id": "fed017c5",
   "metadata": {},
   "source": [
    "This data set contains statistics, in arrests per 100,000 residents, for assault, murder, and rape in each of the 50 US states in 1973. Also given is the percent of the population living in urban areas."
   ]
  },
  {
   "cell_type": "markdown",
   "id": "63d36f93",
   "metadata": {},
   "source": [
    "# Analysing the data"
   ]
  },
  {
   "cell_type": "markdown",
   "id": "3faba95d",
   "metadata": {},
   "source": [
    "- Required libraries are imported\n",
    "- The data set is read using pandas and printed on the screen"
   ]
  },
  {
   "cell_type": "code",
   "execution_count": 1,
   "id": "245151e8",
   "metadata": {},
   "outputs": [
    {
     "data": {
      "text/html": [
       "<div>\n",
       "<style scoped>\n",
       "    .dataframe tbody tr th:only-of-type {\n",
       "        vertical-align: middle;\n",
       "    }\n",
       "\n",
       "    .dataframe tbody tr th {\n",
       "        vertical-align: top;\n",
       "    }\n",
       "\n",
       "    .dataframe thead th {\n",
       "        text-align: right;\n",
       "    }\n",
       "</style>\n",
       "<table border=\"1\" class=\"dataframe\">\n",
       "  <thead>\n",
       "    <tr style=\"text-align: right;\">\n",
       "      <th></th>\n",
       "      <th>City</th>\n",
       "      <th>Murder</th>\n",
       "      <th>Assault</th>\n",
       "      <th>UrbanPop</th>\n",
       "      <th>Rape</th>\n",
       "    </tr>\n",
       "  </thead>\n",
       "  <tbody>\n",
       "    <tr>\n",
       "      <th>0</th>\n",
       "      <td>Alabama</td>\n",
       "      <td>13.2</td>\n",
       "      <td>236</td>\n",
       "      <td>58</td>\n",
       "      <td>21.2</td>\n",
       "    </tr>\n",
       "    <tr>\n",
       "      <th>1</th>\n",
       "      <td>Alaska</td>\n",
       "      <td>10.0</td>\n",
       "      <td>263</td>\n",
       "      <td>48</td>\n",
       "      <td>44.5</td>\n",
       "    </tr>\n",
       "    <tr>\n",
       "      <th>2</th>\n",
       "      <td>Arizona</td>\n",
       "      <td>8.1</td>\n",
       "      <td>294</td>\n",
       "      <td>80</td>\n",
       "      <td>31.0</td>\n",
       "    </tr>\n",
       "    <tr>\n",
       "      <th>3</th>\n",
       "      <td>Arkansas</td>\n",
       "      <td>8.8</td>\n",
       "      <td>190</td>\n",
       "      <td>50</td>\n",
       "      <td>19.5</td>\n",
       "    </tr>\n",
       "    <tr>\n",
       "      <th>4</th>\n",
       "      <td>California</td>\n",
       "      <td>9.0</td>\n",
       "      <td>276</td>\n",
       "      <td>91</td>\n",
       "      <td>40.6</td>\n",
       "    </tr>\n",
       "  </tbody>\n",
       "</table>\n",
       "</div>"
      ],
      "text/plain": [
       "         City  Murder  Assault  UrbanPop  Rape\n",
       "0     Alabama    13.2      236        58  21.2\n",
       "1      Alaska    10.0      263        48  44.5\n",
       "2     Arizona     8.1      294        80  31.0\n",
       "3    Arkansas     8.8      190        50  19.5\n",
       "4  California     9.0      276        91  40.6"
      ]
     },
     "execution_count": 1,
     "metadata": {},
     "output_type": "execute_result"
    }
   ],
   "source": [
    "import pandas as pd\n",
    "import numpy as np\n",
    "\n",
    "import matplotlib.pyplot as plt\n",
    "%matplotlib inline\n",
    "\n",
    "import warnings\n",
    "warnings.filterwarnings('ignore')\n",
    "\n",
    "data = pd.read_csv(\"UsArrests.csv\")\n",
    "data.head()"
   ]
  },
  {
   "cell_type": "markdown",
   "id": "f227fca9",
   "metadata": {},
   "source": [
    "## Statistics "
   ]
  },
  {
   "cell_type": "markdown",
   "id": "e1d5bbd2",
   "metadata": {},
   "source": [
    "The statistical properties of the columns are summarised as follow:"
   ]
  },
  {
   "cell_type": "code",
   "execution_count": 2,
   "id": "dfa281c9",
   "metadata": {},
   "outputs": [
    {
     "data": {
      "text/html": [
       "<div>\n",
       "<style scoped>\n",
       "    .dataframe tbody tr th:only-of-type {\n",
       "        vertical-align: middle;\n",
       "    }\n",
       "\n",
       "    .dataframe tbody tr th {\n",
       "        vertical-align: top;\n",
       "    }\n",
       "\n",
       "    .dataframe thead th {\n",
       "        text-align: right;\n",
       "    }\n",
       "</style>\n",
       "<table border=\"1\" class=\"dataframe\">\n",
       "  <thead>\n",
       "    <tr style=\"text-align: right;\">\n",
       "      <th></th>\n",
       "      <th>mean</th>\n",
       "      <th>std</th>\n",
       "      <th>min</th>\n",
       "      <th>max</th>\n",
       "    </tr>\n",
       "  </thead>\n",
       "  <tbody>\n",
       "    <tr>\n",
       "      <th>Murder</th>\n",
       "      <td>7.79</td>\n",
       "      <td>4.36</td>\n",
       "      <td>0.80</td>\n",
       "      <td>17.40</td>\n",
       "    </tr>\n",
       "    <tr>\n",
       "      <th>Assault</th>\n",
       "      <td>170.76</td>\n",
       "      <td>83.34</td>\n",
       "      <td>45.00</td>\n",
       "      <td>337.00</td>\n",
       "    </tr>\n",
       "    <tr>\n",
       "      <th>UrbanPop</th>\n",
       "      <td>65.54</td>\n",
       "      <td>14.47</td>\n",
       "      <td>32.00</td>\n",
       "      <td>91.00</td>\n",
       "    </tr>\n",
       "    <tr>\n",
       "      <th>Rape</th>\n",
       "      <td>21.23</td>\n",
       "      <td>9.37</td>\n",
       "      <td>7.30</td>\n",
       "      <td>46.00</td>\n",
       "    </tr>\n",
       "  </tbody>\n",
       "</table>\n",
       "</div>"
      ],
      "text/plain": [
       "           mean   std   min    max\n",
       "Murder     7.79  4.36  0.80  17.40\n",
       "Assault  170.76 83.34 45.00 337.00\n",
       "UrbanPop  65.54 14.47 32.00  91.00\n",
       "Rape      21.23  9.37  7.30  46.00"
      ]
     },
     "execution_count": 2,
     "metadata": {},
     "output_type": "execute_result"
    }
   ],
   "source": [
    "#To set the decimal precision:\n",
    "pd.set_option('display.float_format', lambda x: '%.2f' % x) \n",
    "\n",
    "#The describe function give us insight into the statistical properties of the columns\n",
    "stats = data.describe()\n",
    "selected_stats = stats.loc[[\"mean\",\"std\",\"min\",\"max\"]].transpose() #select relevant rows\n",
    "selected_stats"
   ]
  },
  {
   "cell_type": "markdown",
   "id": "62bbd595",
   "metadata": {},
   "source": [
    "## Missing data "
   ]
  },
  {
   "cell_type": "markdown",
   "id": "91506564",
   "metadata": {},
   "source": [
    "Now we need to check for any missing data using the isnull() function"
   ]
  },
  {
   "cell_type": "code",
   "execution_count": 3,
   "id": "189a1298",
   "metadata": {},
   "outputs": [
    {
     "data": {
      "text/html": [
       "<div>\n",
       "<style scoped>\n",
       "    .dataframe tbody tr th:only-of-type {\n",
       "        vertical-align: middle;\n",
       "    }\n",
       "\n",
       "    .dataframe tbody tr th {\n",
       "        vertical-align: top;\n",
       "    }\n",
       "\n",
       "    .dataframe thead th {\n",
       "        text-align: right;\n",
       "    }\n",
       "</style>\n",
       "<table border=\"1\" class=\"dataframe\">\n",
       "  <thead>\n",
       "    <tr style=\"text-align: right;\">\n",
       "      <th></th>\n",
       "      <th>missing</th>\n",
       "    </tr>\n",
       "  </thead>\n",
       "  <tbody>\n",
       "    <tr>\n",
       "      <th>City</th>\n",
       "      <td>0</td>\n",
       "    </tr>\n",
       "    <tr>\n",
       "      <th>Murder</th>\n",
       "      <td>0</td>\n",
       "    </tr>\n",
       "    <tr>\n",
       "      <th>Assault</th>\n",
       "      <td>0</td>\n",
       "    </tr>\n",
       "    <tr>\n",
       "      <th>UrbanPop</th>\n",
       "      <td>0</td>\n",
       "    </tr>\n",
       "    <tr>\n",
       "      <th>Rape</th>\n",
       "      <td>0</td>\n",
       "    </tr>\n",
       "  </tbody>\n",
       "</table>\n",
       "</div>"
      ],
      "text/plain": [
       "          missing\n",
       "City            0\n",
       "Murder          0\n",
       "Assault         0\n",
       "UrbanPop        0\n",
       "Rape            0"
      ]
     },
     "execution_count": 3,
     "metadata": {},
     "output_type": "execute_result"
    }
   ],
   "source": [
    "# Count missing values\n",
    "missing = data.isnull().sum()\n",
    "relevant_missing = pd.DataFrame(missing, columns=[\"missing\"])\n",
    "relevant_missing"
   ]
  },
  {
   "cell_type": "markdown",
   "id": "925fd083",
   "metadata": {},
   "source": [
    "Since there is no missing data, no imputation is needed"
   ]
  },
  {
   "cell_type": "markdown",
   "id": "4c296f16",
   "metadata": {},
   "source": [
    "## Data types "
   ]
  },
  {
   "cell_type": "markdown",
   "id": "8ce43cf5",
   "metadata": {},
   "source": [
    "It can be useful to check which data types each variables are, and in this case we are working mostly with continuous variables."
   ]
  },
  {
   "cell_type": "code",
   "execution_count": 4,
   "id": "66921a40",
   "metadata": {},
   "outputs": [
    {
     "name": "stdout",
     "output_type": "stream",
     "text": [
      "<class 'pandas.core.frame.DataFrame'>\n",
      "RangeIndex: 50 entries, 0 to 49\n",
      "Data columns (total 5 columns):\n",
      " #   Column    Non-Null Count  Dtype  \n",
      "---  ------    --------------  -----  \n",
      " 0   City      50 non-null     object \n",
      " 1   Murder    50 non-null     float64\n",
      " 2   Assault   50 non-null     int64  \n",
      " 3   UrbanPop  50 non-null     int64  \n",
      " 4   Rape      50 non-null     float64\n",
      "dtypes: float64(2), int64(2), object(1)\n",
      "memory usage: 2.1+ KB\n"
     ]
    }
   ],
   "source": [
    "# Examine types\n",
    "data.info()"
   ]
  },
  {
   "cell_type": "markdown",
   "id": "7cca64bf",
   "metadata": {},
   "source": [
    "##  Visualisation of observations"
   ]
  },
  {
   "cell_type": "markdown",
   "id": "2c4cf180",
   "metadata": {},
   "source": [
    "Now we will plot histograms using Pandas's .hist() function to visualise the distribution of the observations for each feature:"
   ]
  },
  {
   "cell_type": "code",
   "execution_count": 5,
   "id": "5c27d651",
   "metadata": {},
   "outputs": [
    {
     "data": {
      "image/png": "[encoded data removed]",
      "text/plain": [
       "<Figure size 720x576 with 4 Axes>"
      ]
     },
     "metadata": {
      "needs_background": "light"
     },
     "output_type": "display_data"
    }
   ],
   "source": [
    "# Plot histograms\n",
    "histograms = data.hist(color='blue', grid=False, figsize=(10, 8)) \n",
    "plt.tight_layout()\n",
    "plt.show()"
   ]
  },
  {
   "cell_type": "markdown",
   "id": "24ed971d",
   "metadata": {},
   "source": [
    "## Tabulate results "
   ]
  },
  {
   "cell_type": "markdown",
   "id": "1bfcb685",
   "metadata": {},
   "source": [
    "The information is tabulated into a single dataframe as shown below:"
   ]
  },
  {
   "cell_type": "code",
   "execution_count": 6,
   "id": "23054600",
   "metadata": {},
   "outputs": [
    {
     "data": {
      "text/html": [
       "<div>\n",
       "<style scoped>\n",
       "    .dataframe tbody tr th:only-of-type {\n",
       "        vertical-align: middle;\n",
       "    }\n",
       "\n",
       "    .dataframe tbody tr th {\n",
       "        vertical-align: top;\n",
       "    }\n",
       "\n",
       "    .dataframe thead th {\n",
       "        text-align: right;\n",
       "    }\n",
       "</style>\n",
       "<table border=\"1\" class=\"dataframe\">\n",
       "  <thead>\n",
       "    <tr style=\"text-align: right;\">\n",
       "      <th></th>\n",
       "      <th>missing</th>\n",
       "      <th>mean</th>\n",
       "      <th>std</th>\n",
       "      <th>min</th>\n",
       "      <th>max</th>\n",
       "    </tr>\n",
       "  </thead>\n",
       "  <tbody>\n",
       "    <tr>\n",
       "      <th>City</th>\n",
       "      <td>0</td>\n",
       "      <td>NaN</td>\n",
       "      <td>NaN</td>\n",
       "      <td>NaN</td>\n",
       "      <td>NaN</td>\n",
       "    </tr>\n",
       "    <tr>\n",
       "      <th>Murder</th>\n",
       "      <td>0</td>\n",
       "      <td>7.79</td>\n",
       "      <td>4.36</td>\n",
       "      <td>0.80</td>\n",
       "      <td>17.40</td>\n",
       "    </tr>\n",
       "    <tr>\n",
       "      <th>Assault</th>\n",
       "      <td>0</td>\n",
       "      <td>170.76</td>\n",
       "      <td>83.34</td>\n",
       "      <td>45.00</td>\n",
       "      <td>337.00</td>\n",
       "    </tr>\n",
       "    <tr>\n",
       "      <th>UrbanPop</th>\n",
       "      <td>0</td>\n",
       "      <td>65.54</td>\n",
       "      <td>14.47</td>\n",
       "      <td>32.00</td>\n",
       "      <td>91.00</td>\n",
       "    </tr>\n",
       "    <tr>\n",
       "      <th>Rape</th>\n",
       "      <td>0</td>\n",
       "      <td>21.23</td>\n",
       "      <td>9.37</td>\n",
       "      <td>7.30</td>\n",
       "      <td>46.00</td>\n",
       "    </tr>\n",
       "  </tbody>\n",
       "</table>\n",
       "</div>"
      ],
      "text/plain": [
       "          missing   mean   std   min    max\n",
       "City            0    NaN   NaN   NaN    NaN\n",
       "Murder          0   7.79  4.36  0.80  17.40\n",
       "Assault         0 170.76 83.34 45.00 337.00\n",
       "UrbanPop        0  65.54 14.47 32.00  91.00\n",
       "Rape            0  21.23  9.37  7.30  46.00"
      ]
     },
     "execution_count": 6,
     "metadata": {},
     "output_type": "execute_result"
    }
   ],
   "source": [
    "# Create summary table\n",
    "frames = [relevant_missing,selected_stats]\n",
    "summary = pd.concat(frames, axis=1)\n",
    "summary.rename(columns = {0:\"missing\"}, inplace = True)\n",
    "summary.to_csv('summary.csv', index=True) \n",
    "summary"
   ]
  },
  {
   "cell_type": "markdown",
   "id": "ee2b9f81",
   "metadata": {},
   "source": [
    "Looking at the table, 'Assault' has the highest value compared to the other variables. This could be true due to the fact that morally it is more difficult to murder or rape other people.  "
   ]
  },
  {
   "cell_type": "markdown",
   "id": "669a9696",
   "metadata": {},
   "source": [
    "## Correlation Analysis"
   ]
  },
  {
   "cell_type": "markdown",
   "id": "53f797e4",
   "metadata": {},
   "source": [
    "By using Seaborn's function we can plot a correlation heatmap to compute correlations between the different columns."
   ]
  },
  {
   "cell_type": "code",
   "execution_count": 7,
   "id": "b8d0d4cd",
   "metadata": {},
   "outputs": [],
   "source": [
    "cities = data.index\n",
    "corr_data = data.drop([\"City\"],axis=1).corr()\n",
    "labels =corr_data.columns\n",
    "\n",
    "correlations = corr_data.corr()"
   ]
  },
  {
   "cell_type": "code",
   "execution_count": 8,
   "id": "a9da1a56",
   "metadata": {},
   "outputs": [
    {
     "data": {
      "text/plain": [
       "<AxesSubplot:>"
      ]
     },
     "execution_count": 8,
     "metadata": {},
     "output_type": "execute_result"
    },
    {
     "data": {
      "image/png": "[encoded data removed]",
      "text/plain": [
       "<Figure size 432x288 with 2 Axes>"
      ]
     },
     "metadata": {
      "needs_background": "light"
     },
     "output_type": "display_data"
    }
   ],
   "source": [
    "import seaborn as sns\n",
    "mask_ut=np.triu(np.ones(corr_data.shape)).astype(np.bool)\n",
    "sns.heatmap(corr_data, mask=mask_ut, cmap=\"coolwarm\")"
   ]
  },
  {
   "cell_type": "markdown",
   "id": "b6174d05",
   "metadata": {},
   "source": [
    "Examining the heatmap, variables which are positively correlated are red while negatively correlated variables are blue.\n",
    "\n",
    "As expected urban population has a strong negative correlation to murder, as depicted in dark blue. Urban population has a lower negative correlation to assault, as depicted in light blue. Urban population has the lowest to zero negative correlation to rape, as depicted in light grey.\n",
    "\n",
    "If we examine the positive correlations, murder has a strong positive correlation to assualt as depicted in dark red. Rape has a lower positive correlation to assualt as depicted in light red; and murder has the lowest positive correlation to rape as depicted in pink. "
   ]
  },
  {
   "cell_type": "markdown",
   "id": "f9bf25c6",
   "metadata": {},
   "source": [
    "# Principal Components Analysis (PCA)"
   ]
  },
  {
   "cell_type": "markdown",
   "id": "06ccd750",
   "metadata": {},
   "source": [
    "Principal component analysis (PCA) simplifies the complexity in high-dimensional data while retaining trends and patterns. It does this by transforming the data into fewer dimensions, which act as summaries of features."
   ]
  },
  {
   "cell_type": "markdown",
   "id": "0fecd45d",
   "metadata": {},
   "source": [
    "##  Unstandardised data"
   ]
  },
  {
   "cell_type": "code",
   "execution_count": 9,
   "id": "79b4e60f",
   "metadata": {},
   "outputs": [
    {
     "data": {
      "text/html": [
       "<div>\n",
       "<style scoped>\n",
       "    .dataframe tbody tr th:only-of-type {\n",
       "        vertical-align: middle;\n",
       "    }\n",
       "\n",
       "    .dataframe tbody tr th {\n",
       "        vertical-align: top;\n",
       "    }\n",
       "\n",
       "    .dataframe thead th {\n",
       "        text-align: right;\n",
       "    }\n",
       "</style>\n",
       "<table border=\"1\" class=\"dataframe\">\n",
       "  <thead>\n",
       "    <tr style=\"text-align: right;\">\n",
       "      <th></th>\n",
       "      <th>0</th>\n",
       "      <th>1</th>\n",
       "      <th>2</th>\n",
       "      <th>3</th>\n",
       "    </tr>\n",
       "  </thead>\n",
       "  <tbody>\n",
       "    <tr>\n",
       "      <th>0</th>\n",
       "      <td>64.80</td>\n",
       "      <td>11.45</td>\n",
       "      <td>-2.49</td>\n",
       "      <td>2.41</td>\n",
       "    </tr>\n",
       "    <tr>\n",
       "      <th>1</th>\n",
       "      <td>92.83</td>\n",
       "      <td>17.98</td>\n",
       "      <td>20.13</td>\n",
       "      <td>-4.09</td>\n",
       "    </tr>\n",
       "    <tr>\n",
       "      <th>2</th>\n",
       "      <td>124.07</td>\n",
       "      <td>-8.83</td>\n",
       "      <td>-1.69</td>\n",
       "      <td>-4.35</td>\n",
       "    </tr>\n",
       "    <tr>\n",
       "      <th>3</th>\n",
       "      <td>18.34</td>\n",
       "      <td>16.70</td>\n",
       "      <td>0.21</td>\n",
       "      <td>-0.52</td>\n",
       "    </tr>\n",
       "    <tr>\n",
       "      <th>4</th>\n",
       "      <td>107.42</td>\n",
       "      <td>-22.52</td>\n",
       "      <td>6.75</td>\n",
       "      <td>-2.81</td>\n",
       "    </tr>\n",
       "  </tbody>\n",
       "</table>\n",
       "</div>"
      ],
      "text/plain": [
       "       0      1     2     3\n",
       "0  64.80  11.45 -2.49  2.41\n",
       "1  92.83  17.98 20.13 -4.09\n",
       "2 124.07  -8.83 -1.69 -4.35\n",
       "3  18.34  16.70  0.21 -0.52\n",
       "4 107.42 -22.52  6.75 -2.81"
      ]
     },
     "execution_count": 9,
     "metadata": {},
     "output_type": "execute_result"
    }
   ],
   "source": [
    "from sklearn.decomposition import PCA\n",
    "\n",
    "df = pd.read_csv(\"UsArrests.csv\", index_col='City')\n",
    "\n",
    "np.set_printoptions(precision=2)\n",
    "\n",
    "X = df.values.squeeze()\n",
    "\n",
    "pca = PCA()\n",
    "\n",
    "X_trans = pca.fit_transform(X)\n",
    "\n",
    "df_pca = pd.DataFrame(X_trans)\n",
    "df_pca.head()"
   ]
  },
  {
   "cell_type": "markdown",
   "id": "1f2a6aae",
   "metadata": {},
   "source": [
    "The Standard deviations, Proportion of Variance Explained and Cumulative Proportion are calculated and printed"
   ]
  },
  {
   "cell_type": "code",
   "execution_count": 10,
   "id": "7683cc9a",
   "metadata": {},
   "outputs": [
    {
     "name": "stdout",
     "output_type": "stream",
     "text": [
      "Standard deviation: [83.73 14.21  6.49  2.48]\n",
      "Proportion of Variance Explained: [9.66e-01 2.78e-02 5.80e-03 8.49e-04]\n",
      "Cumulative Proportion: [7011.11 7213.11 7255.22 7261.38]\n"
     ]
    }
   ],
   "source": [
    "std = df_pca.describe().transpose()[\"std\"]\n",
    "print(f\"Standard deviation: {std.values}\")\n",
    "\n",
    "print(f\"Proportion of Variance Explained: {pca.explained_variance_ratio_}\")\n",
    "\n",
    "print(f\"Cumulative Proportion: {np.cumsum(pca.explained_variance_)}\")"
   ]
  },
  {
   "cell_type": "markdown",
   "id": "4fca0a5c",
   "metadata": {},
   "source": [
    "## Biplot "
   ]
  },
  {
   "cell_type": "code",
   "execution_count": 11,
   "id": "ac07f7a7",
   "metadata": {},
   "outputs": [],
   "source": [
    "def biplot(score,coeff,labels=None,points=None):\n",
    "    xs = score[:,0]\n",
    "    ys = score[:,1]\n",
    "    n = coeff.shape[0]\n",
    "    scalex = 1.0/(xs.max() - xs.min())\n",
    "    scaley = 1.0/(ys.max() - ys.min())\n",
    "\n",
    "    fig, ax = plt.subplots()    \n",
    "\n",
    "    ax.scatter(xs * scalex,ys * scaley,s=5)\n",
    "\n",
    "    for i in range(0,len(xs)):\n",
    "        txt = cities[i]\n",
    "        ax.annotate(txt, (xs[i]* scalex, ys[i]* scaley))\n",
    "\n",
    "    for i in range(n):\n",
    "        ax.arrow(0, 0, coeff[i,0], coeff[i,1],color = 'r',alpha = 0.5)\n",
    "        if labels is None:\n",
    "            ax.text(coeff[i,0]* 1.15, coeff[i,1] * 1.15, \"Var\"+str(i+1), color = 'green', ha = 'center', va = 'center')\n",
    "        else:\n",
    "            ax.text(coeff[i,0]* 1.15, coeff[i,1] * 1.15, labels[i], color = 'g', ha = 'center', va = 'center')\n",
    " \n",
    "    plt.xlabel(\"PC1\")\n",
    "    plt.ylabel(\"PC2\")\n",
    "    plt.grid()"
   ]
  },
  {
   "cell_type": "markdown",
   "id": "87f93d16",
   "metadata": {},
   "source": [
    "If we consider the biplot for these components, as expected, the first principal component is dominated by Assault which is on a much larger scale than the other variables. This makes it difficult to see how cities vary with respect to the other variables or read the biplot as most cities are overlapping.\n",
    "\n",
    "The second principal component is dominated by Urban population which is also on a much larger scale than the other variables."
   ]
  },
  {
   "cell_type": "code",
   "execution_count": 12,
   "id": "0e5a5bcc",
   "metadata": {},
   "outputs": [
    {
     "data": {
      "image/png": "[encoded data removed]",
      "text/plain": [
       "<Figure size 432x288 with 1 Axes>"
      ]
     },
     "metadata": {
      "needs_background": "light"
     },
     "output_type": "display_data"
    }
   ],
   "source": [
    "biplot(X_trans[:,0:2],np.transpose(pca.components_[0:2, :]),list(labels),list(cities))\n",
    "plt.show()"
   ]
  },
  {
   "cell_type": "markdown",
   "id": "a7b8fa7d",
   "metadata": {},
   "source": [
    "The information on this biplot can also be quantified as follows:"
   ]
  },
  {
   "cell_type": "code",
   "execution_count": 13,
   "id": "36557ec7",
   "metadata": {},
   "outputs": [
    {
     "data": {
      "text/html": [
       "<div>\n",
       "<style scoped>\n",
       "    .dataframe tbody tr th:only-of-type {\n",
       "        vertical-align: middle;\n",
       "    }\n",
       "\n",
       "    .dataframe tbody tr th {\n",
       "        vertical-align: top;\n",
       "    }\n",
       "\n",
       "    .dataframe thead th {\n",
       "        text-align: right;\n",
       "    }\n",
       "</style>\n",
       "<table border=\"1\" class=\"dataframe\">\n",
       "  <thead>\n",
       "    <tr style=\"text-align: right;\">\n",
       "      <th></th>\n",
       "      <th>Features</th>\n",
       "      <th>PC1 Importance</th>\n",
       "      <th>PC2 Importance</th>\n",
       "    </tr>\n",
       "  </thead>\n",
       "  <tbody>\n",
       "    <tr>\n",
       "      <th>0</th>\n",
       "      <td>Murder</td>\n",
       "      <td>0.042</td>\n",
       "      <td>0.045</td>\n",
       "    </tr>\n",
       "    <tr>\n",
       "      <th>1</th>\n",
       "      <td>Assault</td>\n",
       "      <td>0.995</td>\n",
       "      <td>0.059</td>\n",
       "    </tr>\n",
       "    <tr>\n",
       "      <th>2</th>\n",
       "      <td>UrbanPop</td>\n",
       "      <td>0.046</td>\n",
       "      <td>0.977</td>\n",
       "    </tr>\n",
       "    <tr>\n",
       "      <th>3</th>\n",
       "      <td>Rape</td>\n",
       "      <td>0.075</td>\n",
       "      <td>0.201</td>\n",
       "    </tr>\n",
       "  </tbody>\n",
       "</table>\n",
       "</div>"
      ],
      "text/plain": [
       "   Features  PC1 Importance  PC2 Importance\n",
       "0    Murder           0.042           0.045\n",
       "1   Assault           0.995           0.059\n",
       "2  UrbanPop           0.046           0.977\n",
       "3      Rape           0.075           0.201"
      ]
     },
     "execution_count": 13,
     "metadata": {},
     "output_type": "execute_result"
    }
   ],
   "source": [
    "# Feature importance\n",
    "pd.set_option('display.float_format', lambda x: '%.3f' % x) \n",
    "\n",
    "pc1 = abs( pca.components_[0] ) \n",
    "pc2 = abs( pca.components_[1] )\n",
    "\n",
    "feat_df = pd.DataFrame()\n",
    "feat_df[\"Features\"] = list(labels)\n",
    "feat_df[\"PC1 Importance\"] = pc1\n",
    "feat_df[\"PC2 Importance\"] = pc2\n",
    "feat_df"
   ]
  },
  {
   "cell_type": "markdown",
   "id": "06943ace",
   "metadata": {},
   "source": [
    "From the table we can see that Assault has by far the highest importance in the first principle component, while Urban population has the highest importance in the second principle component. These results agree with those deduced from the biplot."
   ]
  },
  {
   "cell_type": "markdown",
   "id": "501e48d5",
   "metadata": {},
   "source": [
    "## Standardised data"
   ]
  },
  {
   "cell_type": "markdown",
   "id": "04563793",
   "metadata": {},
   "source": [
    "We standardise the data so that some features are scaled to a size that is more easy to read, while gaining more insight into possible clusters in the data."
   ]
  },
  {
   "cell_type": "code",
   "execution_count": 14,
   "id": "d1544ecc",
   "metadata": {},
   "outputs": [
    {
     "data": {
      "text/html": [
       "<div>\n",
       "<style scoped>\n",
       "    .dataframe tbody tr th:only-of-type {\n",
       "        vertical-align: middle;\n",
       "    }\n",
       "\n",
       "    .dataframe tbody tr th {\n",
       "        vertical-align: top;\n",
       "    }\n",
       "\n",
       "    .dataframe thead th {\n",
       "        text-align: right;\n",
       "    }\n",
       "</style>\n",
       "<table border=\"1\" class=\"dataframe\">\n",
       "  <thead>\n",
       "    <tr style=\"text-align: right;\">\n",
       "      <th></th>\n",
       "      <th>0</th>\n",
       "      <th>1</th>\n",
       "      <th>2</th>\n",
       "      <th>3</th>\n",
       "    </tr>\n",
       "  </thead>\n",
       "  <tbody>\n",
       "    <tr>\n",
       "      <th>0</th>\n",
       "      <td>0.986</td>\n",
       "      <td>1.133</td>\n",
       "      <td>-0.444</td>\n",
       "      <td>0.156</td>\n",
       "    </tr>\n",
       "    <tr>\n",
       "      <th>1</th>\n",
       "      <td>1.950</td>\n",
       "      <td>1.073</td>\n",
       "      <td>2.040</td>\n",
       "      <td>-0.439</td>\n",
       "    </tr>\n",
       "    <tr>\n",
       "      <th>2</th>\n",
       "      <td>1.763</td>\n",
       "      <td>-0.746</td>\n",
       "      <td>0.055</td>\n",
       "      <td>-0.835</td>\n",
       "    </tr>\n",
       "    <tr>\n",
       "      <th>3</th>\n",
       "      <td>-0.141</td>\n",
       "      <td>1.120</td>\n",
       "      <td>0.115</td>\n",
       "      <td>-0.183</td>\n",
       "    </tr>\n",
       "    <tr>\n",
       "      <th>4</th>\n",
       "      <td>2.524</td>\n",
       "      <td>-1.543</td>\n",
       "      <td>0.599</td>\n",
       "      <td>-0.342</td>\n",
       "    </tr>\n",
       "  </tbody>\n",
       "</table>\n",
       "</div>"
      ],
      "text/plain": [
       "       0      1      2      3\n",
       "0  0.986  1.133 -0.444  0.156\n",
       "1  1.950  1.073  2.040 -0.439\n",
       "2  1.763 -0.746  0.055 -0.835\n",
       "3 -0.141  1.120  0.115 -0.183\n",
       "4  2.524 -1.543  0.599 -0.342"
      ]
     },
     "execution_count": 14,
     "metadata": {},
     "output_type": "execute_result"
    }
   ],
   "source": [
    "from sklearn.preprocessing import StandardScaler\n",
    "X_std = StandardScaler().fit_transform(X)\n",
    "\n",
    "std_pca = PCA()\n",
    "X_std_trans = std_pca.fit_transform(X_std)\n",
    "\n",
    "df_std_pca = pd.DataFrame(X_std_trans)\n",
    "df_std_pca.head()"
   ]
  },
  {
   "cell_type": "code",
   "execution_count": 15,
   "id": "9f2029fe",
   "metadata": {},
   "outputs": [
    {
     "data": {
      "image/png": "[encoded data removed]",
      "text/plain": [
       "<Figure size 432x288 with 1 Axes>"
      ]
     },
     "metadata": {
      "needs_background": "light"
     },
     "output_type": "display_data"
    }
   ],
   "source": [
    "biplot(X_std_trans[:,0:2],np.transpose(std_pca.components_[0:2, :]),list(labels))\n",
    "plt.show()"
   ]
  },
  {
   "cell_type": "markdown",
   "id": "ff0b8f0e",
   "metadata": {},
   "source": [
    "The first principal component seems to have all the data in the positive direction. The second principal component separates the data into 2 directions, which shows the strength of the negative correlations (Rape and Urban Population) and the strength of the positive correlations (Assault and Murder)."
   ]
  },
  {
   "cell_type": "markdown",
   "id": "9bc05eef",
   "metadata": {},
   "source": [
    "The information on this biplot can also be quantified as follows:"
   ]
  },
  {
   "cell_type": "code",
   "execution_count": 16,
   "id": "68c1b505",
   "metadata": {},
   "outputs": [
    {
     "data": {
      "text/html": [
       "<div>\n",
       "<style scoped>\n",
       "    .dataframe tbody tr th:only-of-type {\n",
       "        vertical-align: middle;\n",
       "    }\n",
       "\n",
       "    .dataframe tbody tr th {\n",
       "        vertical-align: top;\n",
       "    }\n",
       "\n",
       "    .dataframe thead th {\n",
       "        text-align: right;\n",
       "    }\n",
       "</style>\n",
       "<table border=\"1\" class=\"dataframe\">\n",
       "  <thead>\n",
       "    <tr style=\"text-align: right;\">\n",
       "      <th></th>\n",
       "      <th>Features</th>\n",
       "      <th>PC1 Importance</th>\n",
       "      <th>PC2 Importance</th>\n",
       "    </tr>\n",
       "  </thead>\n",
       "  <tbody>\n",
       "    <tr>\n",
       "      <th>0</th>\n",
       "      <td>Murder</td>\n",
       "      <td>0.536</td>\n",
       "      <td>0.418</td>\n",
       "    </tr>\n",
       "    <tr>\n",
       "      <th>1</th>\n",
       "      <td>Assault</td>\n",
       "      <td>0.583</td>\n",
       "      <td>0.188</td>\n",
       "    </tr>\n",
       "    <tr>\n",
       "      <th>2</th>\n",
       "      <td>UrbanPop</td>\n",
       "      <td>0.278</td>\n",
       "      <td>0.873</td>\n",
       "    </tr>\n",
       "    <tr>\n",
       "      <th>3</th>\n",
       "      <td>Rape</td>\n",
       "      <td>0.543</td>\n",
       "      <td>0.167</td>\n",
       "    </tr>\n",
       "  </tbody>\n",
       "</table>\n",
       "</div>"
      ],
      "text/plain": [
       "   Features  PC1 Importance  PC2 Importance\n",
       "0    Murder           0.536           0.418\n",
       "1   Assault           0.583           0.188\n",
       "2  UrbanPop           0.278           0.873\n",
       "3      Rape           0.543           0.167"
      ]
     },
     "execution_count": 16,
     "metadata": {},
     "output_type": "execute_result"
    }
   ],
   "source": [
    "# Feature importance\n",
    "\n",
    "pc1 = abs( std_pca.components_[0] )\n",
    "pc2 = abs( std_pca.components_[1] )\n",
    "\n",
    "feat_df = pd.DataFrame()\n",
    "feat_df[\"Features\"] = list(labels)\n",
    "feat_df[\"PC1 Importance\"] = pc1\n",
    "feat_df[\"PC2 Importance\"] = pc2\n",
    "feat_df"
   ]
  },
  {
   "cell_type": "markdown",
   "id": "17063c63",
   "metadata": {},
   "source": [
    "Comparing the new results from this table with the initial table, we can see that the values are more evenly with a few values being lower in importance. "
   ]
  },
  {
   "cell_type": "markdown",
   "id": "8baad432",
   "metadata": {},
   "source": [
    "##  Cumulative variance plot"
   ]
  },
  {
   "cell_type": "markdown",
   "id": "7a9e0a99",
   "metadata": {},
   "source": [
    "The first few principal components are the variables that explain most of the variation in the data. Thus a certain number of principal components need to be chosen to explain the variation of the data. By plotting a 'Cumulative variance plot' and 'Scree plot', this number can graphically be obtained."
   ]
  },
  {
   "cell_type": "code",
   "execution_count": 17,
   "id": "11be4925",
   "metadata": {},
   "outputs": [
    {
     "data": {
      "text/plain": [
       "Text(0.5, 1.0, 'Cumulative Explained Variance')"
      ]
     },
     "execution_count": 17,
     "metadata": {},
     "output_type": "execute_result"
    },
    {
     "data": {
      "image/png": "[encoded data removed]",
      "text/plain": [
       "<Figure size 432x288 with 1 Axes>"
      ]
     },
     "metadata": {
      "needs_background": "light"
     },
     "output_type": "display_data"
    }
   ],
   "source": [
    "# Cumulative variance plot\n",
    "plt.ylabel('Explained variance')\n",
    "plt.xlabel('Components')\n",
    "plt.plot(range(1,len(std_pca.explained_variance_ratio_ )+1),\n",
    "         np.cumsum(std_pca.explained_variance_ratio_),\n",
    "         c='red')\n",
    "plt.title(\"Cumulative Explained Variance\")"
   ]
  },
  {
   "cell_type": "markdown",
   "id": "48dd17e3",
   "metadata": {},
   "source": [
    "## Scree plot "
   ]
  },
  {
   "cell_type": "code",
   "execution_count": 18,
   "id": "28c272e8",
   "metadata": {},
   "outputs": [
    {
     "data": {
      "image/png": "[encoded data removed]",
      "text/plain": [
       "<Figure size 432x288 with 1 Axes>"
      ]
     },
     "metadata": {
      "needs_background": "light"
     },
     "output_type": "display_data"
    }
   ],
   "source": [
    "# Scree plot\n",
    "plt.plot(std_pca.explained_variance_ratio_)\n",
    "plt.xlabel('number of components')\n",
    "plt.ylabel('cumulative explained variance')\n",
    "plt.title(\"Scree plot\")\n",
    "plt.show()"
   ]
  },
  {
   "cell_type": "markdown",
   "id": "060e58a1",
   "metadata": {},
   "source": [
    "The first 2 principal components together explain around 90% of the variance. We can therefore use them to perform cluster analysis. This is what we refer to as dimensionality reduction. We began with 4 variables and now we have 2 variables explaining most of the variability."
   ]
  },
  {
   "cell_type": "code",
   "execution_count": 19,
   "id": "1f2556ef",
   "metadata": {},
   "outputs": [
    {
     "data": {
      "text/html": [
       "<div>\n",
       "<style scoped>\n",
       "    .dataframe tbody tr th:only-of-type {\n",
       "        vertical-align: middle;\n",
       "    }\n",
       "\n",
       "    .dataframe tbody tr th {\n",
       "        vertical-align: top;\n",
       "    }\n",
       "\n",
       "    .dataframe thead th {\n",
       "        text-align: right;\n",
       "    }\n",
       "</style>\n",
       "<table border=\"1\" class=\"dataframe\">\n",
       "  <thead>\n",
       "    <tr style=\"text-align: right;\">\n",
       "      <th></th>\n",
       "      <th>0</th>\n",
       "      <th>1</th>\n",
       "    </tr>\n",
       "    <tr>\n",
       "      <th>City</th>\n",
       "      <th></th>\n",
       "      <th></th>\n",
       "    </tr>\n",
       "  </thead>\n",
       "  <tbody>\n",
       "    <tr>\n",
       "      <th>Alabama</th>\n",
       "      <td>0.986</td>\n",
       "      <td>1.133</td>\n",
       "    </tr>\n",
       "    <tr>\n",
       "      <th>Alaska</th>\n",
       "      <td>1.950</td>\n",
       "      <td>1.073</td>\n",
       "    </tr>\n",
       "    <tr>\n",
       "      <th>Arizona</th>\n",
       "      <td>1.763</td>\n",
       "      <td>-0.746</td>\n",
       "    </tr>\n",
       "    <tr>\n",
       "      <th>Arkansas</th>\n",
       "      <td>-0.141</td>\n",
       "      <td>1.120</td>\n",
       "    </tr>\n",
       "    <tr>\n",
       "      <th>California</th>\n",
       "      <td>2.524</td>\n",
       "      <td>-1.543</td>\n",
       "    </tr>\n",
       "  </tbody>\n",
       "</table>\n",
       "</div>"
      ],
      "text/plain": [
       "                0      1\n",
       "City                    \n",
       "Alabama     0.986  1.133\n",
       "Alaska      1.950  1.073\n",
       "Arizona     1.763 -0.746\n",
       "Arkansas   -0.141  1.120\n",
       "California  2.524 -1.543"
      ]
     },
     "execution_count": 19,
     "metadata": {},
     "output_type": "execute_result"
    }
   ],
   "source": [
    "pca_df = pd.DataFrame(X_std_trans[:,0:2], index = df.index)\n",
    "pca_df.head()"
   ]
  },
  {
   "cell_type": "markdown",
   "id": "76a8612c",
   "metadata": {},
   "source": [
    "# Cluster analysis"
   ]
  },
  {
   "cell_type": "markdown",
   "id": "33469cd8",
   "metadata": {},
   "source": [
    "We will perform both Hierarchical Clustering and K-means with these data and compare the results."
   ]
  },
  {
   "cell_type": "markdown",
   "id": "46b43b7c",
   "metadata": {},
   "source": [
    "## Hierarchical clustering"
   ]
  },
  {
   "cell_type": "markdown",
   "id": "04ad7a96",
   "metadata": {},
   "source": [
    "By using Hierarchical clustering we don't need to specify the number of clusters and that we can see it visually in a dendrogram. Only after the algorithm has run, do we need to specify the number of clusters.\n",
    "\n",
    "To determine the method used to measure the distance between clusters, we plot various dendrograms for the single, complete, and average linkage methods."
   ]
  },
  {
   "cell_type": "code",
   "execution_count": 20,
   "id": "e67c4d5f",
   "metadata": {},
   "outputs": [
    {
     "data": {
      "image/png": "[encoded data removed]",
      "text/plain": [
       "<Figure size 1080x432 with 3 Axes>"
      ]
     },
     "metadata": {
      "needs_background": "light"
     },
     "output_type": "display_data"
    }
   ],
   "source": [
    "from scipy.cluster.hierarchy import dendrogram, linkage\n",
    "from sklearn.cluster import AgglomerativeClustering\n",
    "\n",
    "model = AgglomerativeClustering(distance_threshold=0, n_clusters=None)\n",
    "model = model.fit(pca_df)\n",
    "\n",
    "fig, (ax1, ax2, ax3) = plt.subplots(nrows=1, ncols=3, figsize=(15,6)) \n",
    "\n",
    "fig.suptitle('Hierarchical Clustering Dendrogram')\n",
    "ax1.set_title(\"Single\")\n",
    "\n",
    "dendrogram(linkage(pca_df, method='single'), labels=pca_df.index, ax=ax1) \n",
    "ax2.set_title(\"Average\")\n",
    "\n",
    "dendrogram(linkage(pca_df, method='average'), labels=pca_df.index, ax=ax2)\n",
    "ax3.set_title(\"Complete\")\n",
    "\n",
    "dendrogram(linkage(pca_df, method='complete'), labels=pca_df.index, ax=ax3)\n",
    "\n",
    "plt.show()"
   ]
  },
  {
   "cell_type": "markdown",
   "id": "0b00f345",
   "metadata": {},
   "source": [
    "Examining the three dendrograms, the average one seems to be the most balanced dispersion of clusters, and will be our choice. "
   ]
  },
  {
   "cell_type": "code",
   "execution_count": 21,
   "id": "d1ba9586",
   "metadata": {},
   "outputs": [
    {
     "data": {
      "image/png": "[encoded data removed]",
      "text/plain": [
       "<Figure size 432x288 with 1 Axes>"
      ]
     },
     "metadata": {
      "needs_background": "light"
     },
     "output_type": "display_data"
    }
   ],
   "source": [
    "plt.title(\"Average linkage\")\n",
    "dendrogram(linkage(pca_df, method='average'), labels=pca_df.index)\n",
    "plt.show()"
   ]
  },
  {
   "cell_type": "markdown",
   "id": "1dc868c8",
   "metadata": {},
   "source": [
    "With k = 2, the cluster sizes are as follow:\n",
    "\n",
    "- Cluster 1 = 30\n",
    "- Cluster 2 = 20"
   ]
  },
  {
   "cell_type": "markdown",
   "id": "71b2300c",
   "metadata": {},
   "source": [
    "# K-means clustering"
   ]
  },
  {
   "cell_type": "markdown",
   "id": "cadf0eab",
   "metadata": {},
   "source": [
    "Form the results above, we select K = 2 to plot the k-means cluster graph as shown below."
   ]
  },
  {
   "cell_type": "code",
   "execution_count": 22,
   "id": "344a3813",
   "metadata": {},
   "outputs": [
    {
     "name": "stderr",
     "output_type": "stream",
     "text": [
      "No artists with labels found to put in legend.  Note that artists whose label start with an underscore are ignored when legend() is called with no argument.\n"
     ]
    },
    {
     "data": {
      "text/plain": [
       "<matplotlib.legend.Legend at 0x1d377367b80>"
      ]
     },
     "execution_count": 22,
     "metadata": {},
     "output_type": "execute_result"
    },
    {
     "data": {
      "image/png": "[encoded data removed]",
      "text/plain": [
       "<Figure size 432x288 with 1 Axes>"
      ]
     },
     "metadata": {
      "needs_background": "light"
     },
     "output_type": "display_data"
    }
   ],
   "source": [
    "from sklearn.cluster import KMeans\n",
    "\n",
    "# We extract the first two components\n",
    "x = X_std_trans[:,0]\n",
    "y = X_std_trans[:,1]\n",
    "\n",
    "# Fit k-means\n",
    "k=2\n",
    "kmeans = KMeans(n_clusters=k, init='k-means++', random_state=20)\n",
    "cluster_labels = kmeans.fit_predict(pca_df)\n",
    "cent = kmeans.cluster_centers_\n",
    "\n",
    "# Plot clusters\n",
    "fig, ax = plt.subplots()\n",
    "colours = 'rbgy'\n",
    "for i in range(0,k):\n",
    "    ax.scatter(x[cluster_labels == i],y[cluster_labels == i],c = colours[i]) \n",
    "\n",
    "for i in range(0,len(x)):\n",
    "        txt = cities[i]\n",
    "        ax.annotate(txt, (x[i], y[i]))\n",
    "ax.set_title(\"K-Means cluster plot\")\n",
    "ax.set_xlabel(\"Dim 2\")\n",
    "ax.set_ylabel(\"Dim 1\")\n",
    "ax.legend()"
   ]
  },
  {
   "cell_type": "markdown",
   "id": "ebfe174a",
   "metadata": {},
   "source": [
    "## Groups - translate to readable names"
   ]
  },
  {
   "cell_type": "markdown",
   "id": "5e2db57a",
   "metadata": {},
   "source": [
    "The city names in each cluster are printed below as shown in groups 1 and 2"
   ]
  },
  {
   "cell_type": "code",
   "execution_count": 23,
   "id": "bc79ed12",
   "metadata": {},
   "outputs": [
    {
     "name": "stdout",
     "output_type": "stream",
     "text": [
      "Group 1: ['Alabama', 'Alaska', 'Arizona', 'California', 'Colorado', 'Florida', 'Georgia', 'Illinois', 'Louisiana', 'Maryland', 'Michigan', 'Mississippi', 'Missouri', 'Nevada', 'New Mexico', 'New York', 'North Carolina', 'South Carolina', 'Tennessee', 'Texas']\n",
      "\n",
      "\n",
      "Group 2: ['Arkansas', 'Connecticut', 'Delaware', 'Hawaii', 'Idaho', 'Indiana', 'Iowa', 'Kansas', 'Kentucky', 'Maine', 'Massachusetts', 'Minnesota', 'Montana', 'Nebraska', 'New Hampshire', 'New Jersey', 'North Dakota', 'Ohio', 'Oklahoma', 'Oregon', 'Pennsylvania', 'Rhode Island', 'South Dakota', 'Utah', 'Vermont', 'Virginia', 'Washington', 'West Virginia', 'Wisconsin', 'Wyoming']\n",
      "\n",
      "\n"
     ]
    }
   ],
   "source": [
    "clusters = pd.DataFrame()\n",
    "\n",
    "group0_indices = np.argwhere(cluster_labels==0).transpose()[0]\n",
    "group1_indices = np.argwhere(cluster_labels==1).transpose()[0]\n",
    "\n",
    "group0 = np.array(cities)[group0_indices]\n",
    "group1 = np.array(cities)[group1_indices]\n",
    "\n",
    "\n",
    "print(\"Group 1: {}\\n\\n\".format([data.loc[x][\"City\"] for x in group0]))\n",
    "print(\"Group 2: {}\\n\\n\".format([data.loc[x][\"City\"] for x in group1]))"
   ]
  },
  {
   "cell_type": "code",
   "execution_count": null,
   "id": "150e997e",
   "metadata": {},
   "outputs": [],
   "source": []
  }
 ],
 "metadata": {
  "kernelspec": {
   "display_name": "Python 3 (ipykernel)",
   "language": "python",
   "name": "python3"
  },
  "language_info": {
   "codemirror_mode": {
    "name": "ipython",
    "version": 3
   },
   "file_extension": ".py",
   "mimetype": "text/x-python",
   "name": "python",
   "nbconvert_exporter": "python",
   "pygments_lexer": "ipython3",
   "version": "3.10.5"
  }
 },
 "nbformat": 4,
 "nbformat_minor": 5
}
